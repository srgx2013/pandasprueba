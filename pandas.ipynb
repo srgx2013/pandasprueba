{
 "cells": [
  {
   "cell_type": "code",
   "execution_count": 2,
   "metadata": {},
   "outputs": [],
   "source": [
    "import pandas as pd # importando pandas\n",
    "import numpy as np"
   ]
  },
  {
   "cell_type": "markdown",
   "metadata": {},
   "source": []
  },
  {
   "cell_type": "code",
   "execution_count": 3,
   "metadata": {},
   "outputs": [],
   "source": [
    "support = pd.read_csv(\"/home/saulpc2/Escritorio/proyecto pandas/support_esp.csv\")"
   ]
  },
  {
   "cell_type": "code",
   "execution_count": 4,
   "metadata": {},
   "outputs": [
    {
     "data": {
      "text/html": [
       "<div>\n",
       "<style scoped>\n",
       "    .dataframe tbody tr th:only-of-type {\n",
       "        vertical-align: middle;\n",
       "    }\n",
       "\n",
       "    .dataframe tbody tr th {\n",
       "        vertical-align: top;\n",
       "    }\n",
       "\n",
       "    .dataframe thead th {\n",
       "        text-align: right;\n",
       "    }\n",
       "</style>\n",
       "<table border=\"1\" class=\"dataframe\">\n",
       "  <thead>\n",
       "    <tr style=\"text-align: right;\">\n",
       "      <th></th>\n",
       "      <th>user_id</th>\n",
       "      <th>request_type</th>\n",
       "      <th>type_id</th>\n",
       "      <th>request_timestamp</th>\n",
       "    </tr>\n",
       "  </thead>\n",
       "  <tbody>\n",
       "    <tr>\n",
       "      <th>0</th>\n",
       "      <td>DNcd8dnS</td>\n",
       "      <td>Complaint about a store item</td>\n",
       "      <td>3</td>\n",
       "      <td>2019-03-28 13:58:24</td>\n",
       "    </tr>\n",
       "    <tr>\n",
       "      <th>1</th>\n",
       "      <td>0e9MvwGs</td>\n",
       "      <td>Fraud</td>\n",
       "      <td>5</td>\n",
       "      <td>2019-03-08 17:11:59</td>\n",
       "    </tr>\n",
       "    <tr>\n",
       "      <th>2</th>\n",
       "      <td>boyDUG4C</td>\n",
       "      <td>Fraud</td>\n",
       "      <td>5</td>\n",
       "      <td>2019-03-03 17:52:34</td>\n",
       "    </tr>\n",
       "    <tr>\n",
       "      <th>3</th>\n",
       "      <td>5jMA27s1</td>\n",
       "      <td>Complaint about a store item</td>\n",
       "      <td>3</td>\n",
       "      <td>2019-03-16 15:18:21</td>\n",
       "    </tr>\n",
       "    <tr>\n",
       "      <th>4</th>\n",
       "      <td>wvtyctOK</td>\n",
       "      <td>Fake reviews</td>\n",
       "      <td>2</td>\n",
       "      <td>2019-03-13 14:43:14</td>\n",
       "    </tr>\n",
       "    <tr>\n",
       "      <th>...</th>\n",
       "      <td>...</td>\n",
       "      <td>...</td>\n",
       "      <td>...</td>\n",
       "      <td>...</td>\n",
       "    </tr>\n",
       "    <tr>\n",
       "      <th>2995</th>\n",
       "      <td>6X0OF5EB</td>\n",
       "      <td>Complaint about a store item</td>\n",
       "      <td>3</td>\n",
       "      <td>2019-04-23 17:30:21</td>\n",
       "    </tr>\n",
       "    <tr>\n",
       "      <th>2996</th>\n",
       "      <td>dQ4DCfeo</td>\n",
       "      <td>Complaint about a store item</td>\n",
       "      <td>3</td>\n",
       "      <td>2019-04-02 14:13:30</td>\n",
       "    </tr>\n",
       "    <tr>\n",
       "      <th>2997</th>\n",
       "      <td>nSwKhw7e</td>\n",
       "      <td>Complaint about a store item</td>\n",
       "      <td>3</td>\n",
       "      <td>2019-03-02 10:53:54</td>\n",
       "    </tr>\n",
       "    <tr>\n",
       "      <th>2998</th>\n",
       "      <td>UE5G4T3x</td>\n",
       "      <td>Complaint about a store item</td>\n",
       "      <td>3</td>\n",
       "      <td>2019-03-24 10:21:57</td>\n",
       "    </tr>\n",
       "    <tr>\n",
       "      <th>2999</th>\n",
       "      <td>uwPq9D2m</td>\n",
       "      <td>Website not working</td>\n",
       "      <td>1</td>\n",
       "      <td>2019-04-20 15:45:55</td>\n",
       "    </tr>\n",
       "  </tbody>\n",
       "</table>\n",
       "<p>3000 rows × 4 columns</p>\n",
       "</div>"
      ],
      "text/plain": [
       "       user_id                  request_type  type_id    request_timestamp\n",
       "0     DNcd8dnS  Complaint about a store item        3  2019-03-28 13:58:24\n",
       "1     0e9MvwGs                         Fraud        5  2019-03-08 17:11:59\n",
       "2     boyDUG4C                         Fraud        5  2019-03-03 17:52:34\n",
       "3     5jMA27s1  Complaint about a store item        3  2019-03-16 15:18:21\n",
       "4     wvtyctOK                  Fake reviews        2  2019-03-13 14:43:14\n",
       "...        ...                           ...      ...                  ...\n",
       "2995  6X0OF5EB  Complaint about a store item        3  2019-04-23 17:30:21\n",
       "2996  dQ4DCfeo  Complaint about a store item        3  2019-04-02 14:13:30\n",
       "2997  nSwKhw7e  Complaint about a store item        3  2019-03-02 10:53:54\n",
       "2998  UE5G4T3x  Complaint about a store item        3  2019-03-24 10:21:57\n",
       "2999  uwPq9D2m           Website not working        1  2019-04-20 15:45:55\n",
       "\n",
       "[3000 rows x 4 columns]"
      ]
     },
     "execution_count": 4,
     "metadata": {},
     "output_type": "execute_result"
    }
   ],
   "source": [
    "support\n"
   ]
  },
  {
   "cell_type": "code",
   "execution_count": 5,
   "metadata": {},
   "outputs": [
    {
     "name": "stdout",
     "output_type": "stream",
     "text": [
      "    user_id                    request_type  type_id    request_timestamp\n",
      "0  DNcd8dnS    Complaint about a store item        3  2019-03-28 13:58:24\n",
      "1  0e9MvwGs                           Fraud        5  2019-03-08 17:11:59\n",
      "2  boyDUG4C                           Fraud        5  2019-03-03 17:52:34\n",
      "3  5jMA27s1    Complaint about a store item        3  2019-03-16 15:18:21\n",
      "4  wvtyctOK                    Fake reviews        2  2019-03-13 14:43:14\n",
      "5  zvN8W1tc  Complaint about a video review        8  2019-03-29 20:32:17\n",
      "6  bBmybSbr             Website not working        1  2019-04-08 21:37:15\n",
      "7  5JX1P5G8        Sale of prohibited items        6  2019-04-06 12:15:20\n",
      "8  pbbG3xWx             Website not working        1  2019-04-09 17:30:43\n",
      "9  vZWtTovT    Complaint about a store item        3  2019-04-16 12:26:16\n"
     ]
    }
   ],
   "source": [
    "print(support.head(10))"
   ]
  },
  {
   "cell_type": "code",
   "execution_count": 6,
   "metadata": {},
   "outputs": [
    {
     "name": "stdout",
     "output_type": "stream",
     "text": [
      "<class 'pandas.core.frame.DataFrame'>\n",
      "RangeIndex: 3000 entries, 0 to 2999\n",
      "Data columns (total 4 columns):\n",
      " #   Column             Non-Null Count  Dtype \n",
      "---  ------             --------------  ----- \n",
      " 0   user_id            3000 non-null   object\n",
      " 1   request_type       3000 non-null   object\n",
      " 2   type_id            3000 non-null   int64 \n",
      " 3   request_timestamp  3000 non-null   object\n",
      "dtypes: int64(1), object(3)\n",
      "memory usage: 93.9+ KB\n"
     ]
    }
   ],
   "source": [
    "support.info()"
   ]
  },
  {
   "cell_type": "code",
   "execution_count": 7,
   "metadata": {},
   "outputs": [
    {
     "name": "stdout",
     "output_type": "stream",
     "text": [
      "<class 'pandas.core.frame.DataFrame'>\n",
      "RangeIndex: 3000 entries, 0 to 2999\n",
      "Data columns (total 4 columns):\n",
      " #   Column        Non-Null Count  Dtype \n",
      "---  ------        --------------  ----- \n",
      " 0   user_id       3000 non-null   object\n",
      " 1   type_message  3000 non-null   object\n",
      " 2   type_id       3000 non-null   int64 \n",
      " 3   timestamp     3000 non-null   object\n",
      "dtypes: int64(1), object(3)\n",
      "memory usage: 93.9+ KB\n"
     ]
    },
    {
     "name": "stderr",
     "output_type": "stream",
     "text": [
      "/tmp/ipykernel_3928/2041298749.py:1: FutureWarning: DataFrame.set_axis 'inplace' keyword is deprecated and will be removed in a future version. Use `obj = obj.set_axis(..., copy=False)` instead\n",
      "  support.set_axis(['user_id','type_message', 'type_id', 'timestamp'], axis = 'columns',inplace=True)\n"
     ]
    }
   ],
   "source": [
    "\n",
    "\n",
    "support.set_axis(['user_id','type_message', 'type_id', 'timestamp'], axis = 'columns',inplace=True)\n",
    "support.info()"
   ]
  },
  {
   "attachments": {},
   "cell_type": "markdown",
   "metadata": {},
   "source": [
    "1.\n",
    "Averigüa cuántos tickets de cada tipo se han enviado. Muestra los resultados."
   ]
  },
  {
   "cell_type": "code",
   "execution_count": 8,
   "metadata": {},
   "outputs": [
    {
     "name": "stdout",
     "output_type": "stream",
     "text": [
      "Complaint about a store item      606\n",
      "Fraud                             586\n",
      "Sale of counterfeited items       312\n",
      "Website not working               311\n",
      "Sale of prohibited items          303\n",
      "Fake reviews                      302\n",
      "Complaint about a video review    297\n",
      "The review was deleted            283\n",
      "Name: type_message, dtype: int64\n"
     ]
    }
   ],
   "source": [
    "support = pd.read_csv('/home/saulpc2/Escritorio/proyecto pandas/support_upd_esp.csv')\n",
    "print(support[\"type_message\"].value_counts())\n"
   ]
  },
  {
   "cell_type": "code",
   "execution_count": 9,
   "metadata": {},
   "outputs": [
    {
     "name": "stdout",
     "output_type": "stream",
     "text": [
      "    user_id  type_id            timestamp\n",
      "0  DNcd8dnS        3  2019-03-28 13:58:24\n",
      "1  0e9MvwGs        5  2019-03-08 17:11:59\n",
      "2  boyDUG4C        5  2019-03-03 17:52:34\n",
      "3  5jMA27s1        3  2019-03-16 15:18:21\n",
      "4  wvtyctOK        2  2019-03-13 14:43:14\n",
      "5  zvN8W1tc        8  2019-03-29 20:32:17\n",
      "6  bBmybSbr        1  2019-04-08 21:37:15\n",
      "7  5JX1P5G8        6  2019-04-06 12:15:20\n",
      "8  pbbG3xWx        1  2019-04-09 17:30:43\n",
      "9  vZWtTovT        3  2019-04-16 12:26:16\n"
     ]
    }
   ],
   "source": [
    "# 2.Crea una nueva tabla support_log y pásale las siguientes columnas de la tabla support:\n",
    "\n",
    "#['user_id','type_id','timestamp']. Muestra las primeras diez filas de support_log.\n",
    "\n",
    "support_ref = support_log = support[['user_id','type_id','timestamp']]\n",
    "print(support_log.head(10))"
   ]
  },
  {
   "cell_type": "code",
   "execution_count": 10,
   "metadata": {},
   "outputs": [
    {
     "name": "stdout",
     "output_type": "stream",
     "text": [
      "                     type_message  type_id\n",
      "0    Complaint about a store item        3\n",
      "1                           Fraud        5\n",
      "2                           Fraud        5\n",
      "3    Complaint about a store item        3\n",
      "4                    Fake reviews        2\n",
      "5  Complaint about a video review        8\n",
      "6             Website not working        1\n",
      "7        Sale of prohibited items        6\n",
      "8             Website not working        1\n",
      "9    Complaint about a store item        3\n"
     ]
    }
   ],
   "source": [
    "##3.Crea un DataFrame de referencia en la tabla support_ref y pásale las columnas 'type_message' y 'type_id' de la tabla support. Muestra las primeras diez filas de support_ref.\n",
    "support = pd.read_csv('/home/saulpc2/Escritorio/proyecto pandas/support_upd_esp.csv')\n",
    "support_ref=support[['type_message', 'type_id']]\n",
    "print(support_ref.head(10))"
   ]
  },
  {
   "attachments": {},
   "cell_type": "markdown",
   "metadata": {},
   "source": [
    "4.\n",
    "Elimina los datos duplicados, después imprime el DataFrame de referencia ordenado por la columna 'type_id' en orden ascendente. Tu resultado debería ser así:\n",
    "                     type_message  type_id\n",
    "4             Website not working        1\n",
    "2                    Fake reviews        2\n",
    "0    Complaint about a store item        3\n",
    "... "
   ]
  },
  {
   "cell_type": "code",
   "execution_count": 11,
   "metadata": {},
   "outputs": [
    {
     "name": "stdout",
     "output_type": "stream",
     "text": [
      "                     type_message  type_id\n",
      "4             Website not working        1\n",
      "2                    Fake reviews        2\n",
      "0    Complaint about a store item        3\n",
      "6     Sale of counterfeited items        4\n",
      "1                           Fraud        5\n",
      "5        Sale of prohibited items        6\n",
      "7          The review was deleted        7\n",
      "3  Complaint about a video review        8\n"
     ]
    }
   ],
   "source": [
    "\n",
    "support_ref =support[['type_message','type_id']]\n",
    "support_ref = support_ref.drop_duplicates().reset_index(drop= True)\n",
    "print(support_ref.sort_values('type_id'))\n",
    "\n"
   ]
  },
  {
   "attachments": {},
   "cell_type": "markdown",
   "metadata": {},
   "source": [
    "1.\n",
    "Primero, agrupemos los datos por tipo de evento y contemos cuántos eventos de cada tipo hay. Guarda los totales en la variable support_log_grouped y después muéstralos."
   ]
  },
  {
   "cell_type": "code",
   "execution_count": 13,
   "metadata": {},
   "outputs": [
    {
     "name": "stdout",
     "output_type": "stream",
     "text": [
      "         user_id  timestamp\n",
      "type_id                    \n",
      "1            311        311\n",
      "2            302        302\n",
      "3            606        606\n",
      "4            312        312\n",
      "5            586        586\n",
      "6            303        303\n",
      "7            283        283\n",
      "8            297        297\n"
     ]
    }
   ],
   "source": [
    "\n",
    "support = pd.read_csv('/home/saulpc2/Escritorio/proyecto pandas/support_log.csv')\n",
    "support_log_grouped = support_log.groupby('type_id').count()\n",
    "print(support_log_grouped)                                      "
   ]
  },
  {
   "attachments": {},
   "cell_type": "markdown",
   "metadata": {},
   "source": [
    "2.\n",
    "Ahora escribe una función llamada alert_group(messages) que evalúe la prioridad según la cantidad de mensajes recibidos. Esto significa que si el parámetro es igual a 300 o menos, la función debe devolver 'medium'; si es mayor de 300 e igual o menor que 500, devolverá 'high'; y para valores superiores a 500, debería devolver 'critical'.\n",
    "Asegúrate de que tu función produzca el resultado correcto cuando se le pasen los números 10, 450 y 1000."
   ]
  },
  {
   "cell_type": "code",
   "execution_count": 14,
   "metadata": {},
   "outputs": [
    {
     "name": "stdout",
     "output_type": "stream",
     "text": [
      "medium\n",
      "high\n",
      "critical\n"
     ]
    }
   ],
   "source": [
    "support_log_grouped = support_log.groupby('type_id').count()\n",
    "def alert_group(messages):\n",
    "    if messages <= 300:\n",
    "        return 'medium'\n",
    "    if messages <= 500:\n",
    "        return 'high'\n",
    "    return 'critical' \n",
    "print(alert_group(10))\n",
    "print(alert_group(450))\n",
    "print(alert_group(1000))"
   ]
  },
  {
   "attachments": {},
   "cell_type": "markdown",
   "metadata": {},
   "source": [
    "3.\n",
    "Añade una columna 'alert_group' a la tabla support_log_grouped. Aplica la función alert_group() a cualquiera de las columnas de la tabla y almacena los resultados en la nueva columna.\n",
    "Muestra la tabla para asegurarte de que la función clasifica los tickets correctamente."
   ]
  },
  {
   "cell_type": "code",
   "execution_count": 15,
   "metadata": {},
   "outputs": [
    {
     "name": "stdout",
     "output_type": "stream",
     "text": [
      "         user_id  timestamp alert_group\n",
      "type_id                                \n",
      "1            311        311        high\n",
      "2            302        302        high\n",
      "3            606        606    critical\n",
      "4            312        312        high\n",
      "5            586        586    critical\n",
      "6            303        303        high\n",
      "7            283        283      medium\n",
      "8            297        297      medium\n"
     ]
    }
   ],
   "source": [
    "support_log_grouped['alert_group'] = support_log_grouped['user_id'].apply(\n",
    "    alert_group\n",
    ")\n",
    "print(support_log_grouped)"
   ]
  },
  {
   "attachments": {},
   "cell_type": "markdown",
   "metadata": {},
   "source": [
    "4.\n",
    "Calcula el número de tickets para cada calificación. Imprime el resultado.\n",
    "\n",
    "Para calcular los tickets según la prioridad, aplica el método value_counts() a la columna 'alert_group'."
   ]
  },
  {
   "cell_type": "code",
   "execution_count": 17,
   "metadata": {},
   "outputs": [
    {
     "name": "stdout",
     "output_type": "stream",
     "text": [
      "high        4\n",
      "critical    2\n",
      "medium      2\n",
      "Name: alert_group, dtype: int64\n"
     ]
    }
   ],
   "source": [
    "print(support_log_grouped[\"alert_group\"].value_counts())\n"
   ]
  },
  {
   "attachments": {},
   "cell_type": "markdown",
   "metadata": {},
   "source": [
    "###Funciones de una fila\n",
    "1.\n",
    "Primero lee este archivo, que contiene datos sobre los tickets: /datasets/support_log_grouped_esp.csv.\n",
    "Muestra los resultados.\n"
   ]
  },
  {
   "cell_type": "code",
   "execution_count": 18,
   "metadata": {},
   "outputs": [
    {
     "name": "stdout",
     "output_type": "stream",
     "text": [
      "         user_id  timestamp alert_group\n",
      "type_id                                \n",
      "1            311        311        high\n",
      "2            302        302        high\n",
      "3            606        606    critical\n",
      "4            312        312        high\n",
      "5            586        586    critical\n",
      "6            303        303        high\n",
      "7            283        283      medium\n",
      "8            297        297      medium\n"
     ]
    }
   ],
   "source": [
    "support = pd.read_csv('/home/saulpc2/Escritorio/proyecto pandas/support_log_grouped_esp.csv')\n",
    "print(support_log_grouped)"
   ]
  },
  {
   "attachments": {},
   "cell_type": "markdown",
   "metadata": {},
   "source": [
    "2.\n",
    "Ahora escribe una función para ayudar a clasificar los tickets según su importancia.\n",
    "Escribe la función alert_group_importance(row), de acuerdo con los siguientes principios:\n",
    "Si la prioridad de 'alert_group' es media e 'importance' es 1, el comando 'attention' se devolverá al equipo de atención al cliente.\n",
    "Si la prioridad es alta y la importancia es 1, se les devolverá 'high risk'.\n",
    "Si la prioridad es crítica y la importancia es 1, se les devolverá 'block'.\n",
    "En cualquier otro caso, el resultado será 'ticket queued'.\n",
    "Después, asegúrate de que la función funcione creando una fila (objeto Series) usando los valores proporcionados en el precódigo y pasándola. Consulta la sección \"Pasar una fila entera como entrada\" de esta lección\n",
    "Pista\n",
    "Hay que escribir tres bloques de este tipo. Si no se cumple ninguna de estas condiciones, devuelve 'ticket queued'."
   ]
  },
  {
   "cell_type": "code",
   "execution_count": 19,
   "metadata": {},
   "outputs": [
    {
     "name": "stdout",
     "output_type": "stream",
     "text": [
      "high risk\n"
     ]
    }
   ],
   "source": [
    "def alert_group_importance(row):\n",
    "    alert_group = row['alert_group']\n",
    "    importance = row['importance']\n",
    "\n",
    "    if alert_group == 'medium':\n",
    "        if importance == 1:\n",
    "            return 'attention'\n",
    "    if alert_group == 'high':\n",
    "        if importance == 1:\n",
    "            return 'high risk'\n",
    "    if alert_group == 'critical':\n",
    "        if importance == 1:\n",
    "            return 'block'\n",
    "    return 'ticket queued'\n",
    "\n",
    "\n",
    "row_values = ['high', 1]\n",
    "row_columns = ['alert_group', 'importance']\n",
    "row = pd.Series(data=row_values, index=row_columns)\n",
    "print(alert_group_importance(row))"
   ]
  },
  {
   "attachments": {},
   "cell_type": "markdown",
   "metadata": {},
   "source": [
    "3.\n",
    "Crea una nueva columna llamada 'importance_status' y almacena en ella los resultados que recibiste de la función alert_group_importance. Muestra los resultados.\n",
    "Pista\n",
    "Usa el método apply(alert_group_importance, axis=1) en el dataset support_log_grouped."
   ]
  },
  {
   "cell_type": "code",
   "execution_count": 23,
   "metadata": {},
   "outputs": [
    {
     "name": "stdout",
     "output_type": "stream",
     "text": [
      "   type_id  user_id  timestamp alert_group  importance importance_status\n",
      "0        1      311        311        high           1         high risk\n",
      "1        2      302        302        high           0     ticket queued\n",
      "2        3      606        606    critical           0     ticket queued\n",
      "3        4      312        312        high           1         high risk\n",
      "4        5      586        586    critical           1             block\n",
      "5        6      303        303        high           1         high risk\n",
      "6        7      283        283      medium           1         attention\n",
      "7        8      297        297      medium           0     ticket queued\n"
     ]
    }
   ],
   "source": [
    "support_log_grouped = pd.read_csv('/home/saulpc2/Escritorio/proyecto pandas/support_log_grouped_esp.csv')\n",
    "\n",
    "def alert_group_importance(row):\n",
    "    alert_group = row['alert_group']\n",
    "    importance = row['importance']\n",
    "\n",
    "    if alert_group == 'medium':\n",
    "        if importance == 1:\n",
    "            return 'attention'\n",
    "    if alert_group == 'high':\n",
    "        if importance == 1:\n",
    "            return 'high risk'\n",
    "    if alert_group == 'critical':\n",
    "        if importance == 1:\n",
    "            return 'block'\n",
    "    return 'ticket queued'\n",
    "\n",
    "support_log_grouped['importance_status'] = support_log_grouped.apply(\n",
    "    alert_group_importance, axis=1\n",
    ")\n",
    "print(support_log_grouped)"
   ]
  },
  {
   "attachments": {},
   "cell_type": "markdown",
   "metadata": {},
   "source": [
    "4.\n",
    "Calcula cuántas veces cada nivel de importancia aparece en la columna 'importance_status'. Muestra los resultados.\n",
    "\n",
    "Pista\n",
    "Aplica el método value_counts() a la columna 'importance_status'."
   ]
  },
  {
   "cell_type": "code",
   "execution_count": 24,
   "metadata": {},
   "outputs": [
    {
     "name": "stdout",
     "output_type": "stream",
     "text": [
      "high risk        3\n",
      "ticket queued    3\n",
      "block            1\n",
      "attention        1\n",
      "Name: importance_status, dtype: int64\n"
     ]
    }
   ],
   "source": [
    "print(support_log_grouped['importance_status'].value_counts())"
   ]
  },
  {
   "cell_type": "code",
   "execution_count": null,
   "metadata": {},
   "outputs": [],
   "source": []
  }
 ],
 "metadata": {
  "kernelspec": {
   "display_name": "Python 3 (ipykernel)",
   "language": "python",
   "name": "python3"
  },
  "language_info": {
   "codemirror_mode": {
    "name": "ipython",
    "version": 3
   },
   "file_extension": ".py",
   "mimetype": "text/x-python",
   "name": "python",
   "nbconvert_exporter": "python",
   "pygments_lexer": "ipython3",
   "version": "3.10.9"
  }
 },
 "nbformat": 4,
 "nbformat_minor": 2
}
