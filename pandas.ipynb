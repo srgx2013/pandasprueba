{
 "cells": [
  {
   "cell_type": "code",
   "execution_count": 35,
   "metadata": {},
   "outputs": [],
   "source": [
    "import pandas as pd # importando pandas\n",
    "import numpy as np"
   ]
  },
  {
   "cell_type": "markdown",
   "metadata": {},
   "source": []
  },
  {
   "cell_type": "code",
   "execution_count": 36,
   "metadata": {},
   "outputs": [],
   "source": [
    "support = pd.read_csv(\"/home/saulpc2/Escritorio/proyecto pandas/support_esp.csv\")"
   ]
  },
  {
   "cell_type": "code",
   "execution_count": 37,
   "metadata": {},
   "outputs": [
    {
     "data": {
      "text/html": [
       "<div>\n",
       "<style scoped>\n",
       "    .dataframe tbody tr th:only-of-type {\n",
       "        vertical-align: middle;\n",
       "    }\n",
       "\n",
       "    .dataframe tbody tr th {\n",
       "        vertical-align: top;\n",
       "    }\n",
       "\n",
       "    .dataframe thead th {\n",
       "        text-align: right;\n",
       "    }\n",
       "</style>\n",
       "<table border=\"1\" class=\"dataframe\">\n",
       "  <thead>\n",
       "    <tr style=\"text-align: right;\">\n",
       "      <th></th>\n",
       "      <th>user_id</th>\n",
       "      <th>request_type</th>\n",
       "      <th>type_id</th>\n",
       "      <th>request_timestamp</th>\n",
       "    </tr>\n",
       "  </thead>\n",
       "  <tbody>\n",
       "    <tr>\n",
       "      <th>0</th>\n",
       "      <td>DNcd8dnS</td>\n",
       "      <td>Complaint about a store item</td>\n",
       "      <td>3</td>\n",
       "      <td>2019-03-28 13:58:24</td>\n",
       "    </tr>\n",
       "    <tr>\n",
       "      <th>1</th>\n",
       "      <td>0e9MvwGs</td>\n",
       "      <td>Fraud</td>\n",
       "      <td>5</td>\n",
       "      <td>2019-03-08 17:11:59</td>\n",
       "    </tr>\n",
       "    <tr>\n",
       "      <th>2</th>\n",
       "      <td>boyDUG4C</td>\n",
       "      <td>Fraud</td>\n",
       "      <td>5</td>\n",
       "      <td>2019-03-03 17:52:34</td>\n",
       "    </tr>\n",
       "    <tr>\n",
       "      <th>3</th>\n",
       "      <td>5jMA27s1</td>\n",
       "      <td>Complaint about a store item</td>\n",
       "      <td>3</td>\n",
       "      <td>2019-03-16 15:18:21</td>\n",
       "    </tr>\n",
       "    <tr>\n",
       "      <th>4</th>\n",
       "      <td>wvtyctOK</td>\n",
       "      <td>Fake reviews</td>\n",
       "      <td>2</td>\n",
       "      <td>2019-03-13 14:43:14</td>\n",
       "    </tr>\n",
       "    <tr>\n",
       "      <th>...</th>\n",
       "      <td>...</td>\n",
       "      <td>...</td>\n",
       "      <td>...</td>\n",
       "      <td>...</td>\n",
       "    </tr>\n",
       "    <tr>\n",
       "      <th>2995</th>\n",
       "      <td>6X0OF5EB</td>\n",
       "      <td>Complaint about a store item</td>\n",
       "      <td>3</td>\n",
       "      <td>2019-04-23 17:30:21</td>\n",
       "    </tr>\n",
       "    <tr>\n",
       "      <th>2996</th>\n",
       "      <td>dQ4DCfeo</td>\n",
       "      <td>Complaint about a store item</td>\n",
       "      <td>3</td>\n",
       "      <td>2019-04-02 14:13:30</td>\n",
       "    </tr>\n",
       "    <tr>\n",
       "      <th>2997</th>\n",
       "      <td>nSwKhw7e</td>\n",
       "      <td>Complaint about a store item</td>\n",
       "      <td>3</td>\n",
       "      <td>2019-03-02 10:53:54</td>\n",
       "    </tr>\n",
       "    <tr>\n",
       "      <th>2998</th>\n",
       "      <td>UE5G4T3x</td>\n",
       "      <td>Complaint about a store item</td>\n",
       "      <td>3</td>\n",
       "      <td>2019-03-24 10:21:57</td>\n",
       "    </tr>\n",
       "    <tr>\n",
       "      <th>2999</th>\n",
       "      <td>uwPq9D2m</td>\n",
       "      <td>Website not working</td>\n",
       "      <td>1</td>\n",
       "      <td>2019-04-20 15:45:55</td>\n",
       "    </tr>\n",
       "  </tbody>\n",
       "</table>\n",
       "<p>3000 rows × 4 columns</p>\n",
       "</div>"
      ],
      "text/plain": [
       "       user_id                  request_type  type_id    request_timestamp\n",
       "0     DNcd8dnS  Complaint about a store item        3  2019-03-28 13:58:24\n",
       "1     0e9MvwGs                         Fraud        5  2019-03-08 17:11:59\n",
       "2     boyDUG4C                         Fraud        5  2019-03-03 17:52:34\n",
       "3     5jMA27s1  Complaint about a store item        3  2019-03-16 15:18:21\n",
       "4     wvtyctOK                  Fake reviews        2  2019-03-13 14:43:14\n",
       "...        ...                           ...      ...                  ...\n",
       "2995  6X0OF5EB  Complaint about a store item        3  2019-04-23 17:30:21\n",
       "2996  dQ4DCfeo  Complaint about a store item        3  2019-04-02 14:13:30\n",
       "2997  nSwKhw7e  Complaint about a store item        3  2019-03-02 10:53:54\n",
       "2998  UE5G4T3x  Complaint about a store item        3  2019-03-24 10:21:57\n",
       "2999  uwPq9D2m           Website not working        1  2019-04-20 15:45:55\n",
       "\n",
       "[3000 rows x 4 columns]"
      ]
     },
     "execution_count": 37,
     "metadata": {},
     "output_type": "execute_result"
    }
   ],
   "source": [
    "support\n"
   ]
  },
  {
   "cell_type": "code",
   "execution_count": 38,
   "metadata": {},
   "outputs": [
    {
     "name": "stdout",
     "output_type": "stream",
     "text": [
      "    user_id                    request_type  type_id    request_timestamp\n",
      "0  DNcd8dnS    Complaint about a store item        3  2019-03-28 13:58:24\n",
      "1  0e9MvwGs                           Fraud        5  2019-03-08 17:11:59\n",
      "2  boyDUG4C                           Fraud        5  2019-03-03 17:52:34\n",
      "3  5jMA27s1    Complaint about a store item        3  2019-03-16 15:18:21\n",
      "4  wvtyctOK                    Fake reviews        2  2019-03-13 14:43:14\n",
      "5  zvN8W1tc  Complaint about a video review        8  2019-03-29 20:32:17\n",
      "6  bBmybSbr             Website not working        1  2019-04-08 21:37:15\n",
      "7  5JX1P5G8        Sale of prohibited items        6  2019-04-06 12:15:20\n",
      "8  pbbG3xWx             Website not working        1  2019-04-09 17:30:43\n",
      "9  vZWtTovT    Complaint about a store item        3  2019-04-16 12:26:16\n"
     ]
    }
   ],
   "source": [
    "print(support.head(10))"
   ]
  },
  {
   "cell_type": "code",
   "execution_count": 39,
   "metadata": {},
   "outputs": [
    {
     "name": "stdout",
     "output_type": "stream",
     "text": [
      "<class 'pandas.core.frame.DataFrame'>\n",
      "RangeIndex: 3000 entries, 0 to 2999\n",
      "Data columns (total 4 columns):\n",
      " #   Column             Non-Null Count  Dtype \n",
      "---  ------             --------------  ----- \n",
      " 0   user_id            3000 non-null   object\n",
      " 1   request_type       3000 non-null   object\n",
      " 2   type_id            3000 non-null   int64 \n",
      " 3   request_timestamp  3000 non-null   object\n",
      "dtypes: int64(1), object(3)\n",
      "memory usage: 93.9+ KB\n"
     ]
    }
   ],
   "source": [
    "support.info()"
   ]
  },
  {
   "cell_type": "code",
   "execution_count": 40,
   "metadata": {},
   "outputs": [
    {
     "name": "stdout",
     "output_type": "stream",
     "text": [
      "<class 'pandas.core.frame.DataFrame'>\n",
      "RangeIndex: 3000 entries, 0 to 2999\n",
      "Data columns (total 4 columns):\n",
      " #   Column        Non-Null Count  Dtype \n",
      "---  ------        --------------  ----- \n",
      " 0   user_id       3000 non-null   object\n",
      " 1   type_message  3000 non-null   object\n",
      " 2   type_id       3000 non-null   int64 \n",
      " 3   timestamp     3000 non-null   object\n",
      "dtypes: int64(1), object(3)\n",
      "memory usage: 93.9+ KB\n"
     ]
    },
    {
     "name": "stderr",
     "output_type": "stream",
     "text": [
      "/tmp/ipykernel_2154/2041298749.py:1: FutureWarning: DataFrame.set_axis 'inplace' keyword is deprecated and will be removed in a future version. Use `obj = obj.set_axis(..., copy=False)` instead\n",
      "  support.set_axis(['user_id','type_message', 'type_id', 'timestamp'], axis = 'columns',inplace=True)\n"
     ]
    }
   ],
   "source": [
    "\n",
    "\n",
    "support.set_axis(['user_id','type_message', 'type_id', 'timestamp'], axis = 'columns',inplace=True)\n",
    "support.info()"
   ]
  },
  {
   "attachments": {},
   "cell_type": "markdown",
   "metadata": {},
   "source": [
    "1.\n",
    "Averigüa cuántos tickets de cada tipo se han enviado. Muestra los resultados."
   ]
  },
  {
   "cell_type": "code",
   "execution_count": 50,
   "metadata": {},
   "outputs": [
    {
     "name": "stdout",
     "output_type": "stream",
     "text": [
      "Complaint about a store item      606\n",
      "Fraud                             586\n",
      "Sale of counterfeited items       312\n",
      "Website not working               311\n",
      "Sale of prohibited items          303\n",
      "Fake reviews                      302\n",
      "Complaint about a video review    297\n",
      "The review was deleted            283\n",
      "Name: type_message, dtype: int64\n"
     ]
    }
   ],
   "source": [
    "support = pd.read_csv('/home/saulpc2/Escritorio/proyecto pandas/support_upd_esp.csv')\n",
    "print(support[\"type_message\"].value_counts())\n"
   ]
  },
  {
   "cell_type": "code",
   "execution_count": 42,
   "metadata": {},
   "outputs": [
    {
     "name": "stdout",
     "output_type": "stream",
     "text": [
      "    user_id  type_id            timestamp\n",
      "0  DNcd8dnS        3  2019-03-28 13:58:24\n",
      "1  0e9MvwGs        5  2019-03-08 17:11:59\n",
      "2  boyDUG4C        5  2019-03-03 17:52:34\n",
      "3  5jMA27s1        3  2019-03-16 15:18:21\n",
      "4  wvtyctOK        2  2019-03-13 14:43:14\n",
      "5  zvN8W1tc        8  2019-03-29 20:32:17\n",
      "6  bBmybSbr        1  2019-04-08 21:37:15\n",
      "7  5JX1P5G8        6  2019-04-06 12:15:20\n",
      "8  pbbG3xWx        1  2019-04-09 17:30:43\n",
      "9  vZWtTovT        3  2019-04-16 12:26:16\n"
     ]
    }
   ],
   "source": [
    "# 2.Crea una nueva tabla support_log y pásale las siguientes columnas de la tabla support:\n",
    "\n",
    "#['user_id','type_id','timestamp']. Muestra las primeras diez filas de support_log.\n",
    "\n",
    "support_ref = support_log = support[['user_id','type_id','timestamp']]\n",
    "print(support_log.head(10))"
   ]
  },
  {
   "cell_type": "code",
   "execution_count": 48,
   "metadata": {},
   "outputs": [
    {
     "name": "stdout",
     "output_type": "stream",
     "text": [
      "                     type_message  type_id\n",
      "0    Complaint about a store item        3\n",
      "1                           Fraud        5\n",
      "2                           Fraud        5\n",
      "3    Complaint about a store item        3\n",
      "4                    Fake reviews        2\n",
      "5  Complaint about a video review        8\n",
      "6             Website not working        1\n",
      "7        Sale of prohibited items        6\n",
      "8             Website not working        1\n",
      "9    Complaint about a store item        3\n"
     ]
    }
   ],
   "source": [
    "##3.Crea un DataFrame de referencia en la tabla support_ref y pásale las columnas 'type_message' y 'type_id' de la tabla support. Muestra las primeras diez filas de support_ref.\n",
    "support = pd.read_csv('/home/saulpc2/Escritorio/proyecto pandas/support_upd_esp.csv')\n",
    "support_ref=support[['type_message', 'type_id']]\n",
    "print(support_ref.head(10))"
   ]
  },
  {
   "attachments": {},
   "cell_type": "markdown",
   "metadata": {},
   "source": [
    "4.\n",
    "Elimina los datos duplicados, después imprime el DataFrame de referencia ordenado por la columna 'type_id' en orden ascendente. Tu resultado debería ser así:\n",
    "                     type_message  type_id\n",
    "4             Website not working        1\n",
    "2                    Fake reviews        2\n",
    "0    Complaint about a store item        3\n",
    "... "
   ]
  },
  {
   "cell_type": "code",
   "execution_count": 51,
   "metadata": {},
   "outputs": [
    {
     "name": "stdout",
     "output_type": "stream",
     "text": [
      "                     type_message  type_id\n",
      "4             Website not working        1\n",
      "2                    Fake reviews        2\n",
      "0    Complaint about a store item        3\n",
      "6     Sale of counterfeited items        4\n",
      "1                           Fraud        5\n",
      "5        Sale of prohibited items        6\n",
      "7          The review was deleted        7\n",
      "3  Complaint about a video review        8\n"
     ]
    }
   ],
   "source": [
    "\n",
    "support_ref =support[['type_message','type_id']]\n",
    "support_ref = support_ref.drop_duplicates().reset_index(drop= True)\n",
    "print(support_ref.sort_values('type_id'))\n",
    "\n"
   ]
  },
  {
   "cell_type": "code",
   "execution_count": null,
   "metadata": {},
   "outputs": [],
   "source": [
    "support = pd.read_csv('/home/saulpc2/Escritorio/proyecto pandas/support_upd_esp.csv')"
   ]
  }
 ],
 "metadata": {
  "kernelspec": {
   "display_name": "Python 3 (ipykernel)",
   "language": "python",
   "name": "python3"
  },
  "language_info": {
   "codemirror_mode": {
    "name": "ipython",
    "version": 3
   },
   "file_extension": ".py",
   "mimetype": "text/x-python",
   "name": "python",
   "nbconvert_exporter": "python",
   "pygments_lexer": "ipython3",
   "version": "3.10.9"
  }
 },
 "nbformat": 4,
 "nbformat_minor": 2
}
